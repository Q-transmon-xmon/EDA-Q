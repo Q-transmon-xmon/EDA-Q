{
 "cells": [
  {
   "cell_type": "markdown",
   "metadata": {},
   "source": [
    "### 本文件编写的版本: v5.10.11"
   ]
  },
  {
   "cell_type": "code",
   "execution_count": null,
   "metadata": {},
   "outputs": [],
   "source": [
    "import sys\n",
    "sys.path.append(\"../..\")"
   ]
  },
  {
   "cell_type": "code",
   "execution_count": null,
   "metadata": {},
   "outputs": [],
   "source": [
    "from api.design import Design\n",
    "design = Design()\n",
    "design.generate_topology(topo_col=32, topo_row=32)\n",
    "design.topology.show_image()"
   ]
  },
  {
   "cell_type": "code",
   "execution_count": null,
   "metadata": {},
   "outputs": [],
   "source": [
    "design.topology.generate_random_edges(edges_num=1500)\n",
    "design.topology.show_image()"
   ]
  },
  {
   "cell_type": "code",
   "execution_count": null,
   "metadata": {},
   "outputs": [],
   "source": [
    "design.generate_qubits(topology=True, qubits_type=\"Transmon\", chip_name=\"chip0\", dist=3000)\n",
    "design.gds.show_svg()"
   ]
  },
  {
   "cell_type": "code",
   "execution_count": null,
   "metadata": {},
   "outputs": [],
   "source": [
    "design.generate_coupling_lines(topology=True, qubits=True, cpls_type=\"CouplingLineStraight\", chip=\"chip0\")\n",
    "design.gds.show_svg()"
   ]
  },
  {
   "cell_type": "code",
   "execution_count": null,
   "metadata": {},
   "outputs": [],
   "source": [
    "design.generate_chip(qubits=True, dist = 4000)\n",
    "design.gds.show_svg()"
   ]
  },
  {
   "cell_type": "code",
   "execution_count": null,
   "metadata": {},
   "outputs": [],
   "source": [
    "design.generate_readout_lines(qubits=True, rdls_type=\"ReadoutCavity\", chip_name=\"chip0\")\n",
    "design.gds.show_svg()"
   ]
  },
  {
   "cell_type": "code",
   "execution_count": null,
   "metadata": {},
   "outputs": [],
   "source": [
    "design.gds.chips.copy_chip(old_chip_name=\"chip0\", new_chip_name=\"chip1\")\n",
    "design.routing(method=\"Flipchip_routing\", chip_name=\"chip1\")\n",
    "design.gds.show_svg()"
   ]
  },
  {
   "cell_type": "code",
   "execution_count": null,
   "metadata": {},
   "outputs": [],
   "source": [
    "design.gds.save_gds(\"./1024.gds\")"
   ]
  },
  {
   "cell_type": "code",
   "execution_count": null,
   "metadata": {},
   "outputs": [],
   "source": []
  }
 ],
 "metadata": {
  "kernelspec": {
   "display_name": "tianyan_v5",
   "language": "python",
   "name": "tianyan_v5"
  },
  "language_info": {
   "codemirror_mode": {
    "name": "ipython",
    "version": 3
   },
   "file_extension": ".py",
   "mimetype": "text/x-python",
   "name": "python",
   "nbconvert_exporter": "python",
   "pygments_lexer": "ipython3",
   "version": "3.11.5"
  }
 },
 "nbformat": 4,
 "nbformat_minor": 2
}
