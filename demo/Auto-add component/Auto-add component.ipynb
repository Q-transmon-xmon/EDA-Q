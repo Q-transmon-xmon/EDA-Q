{
 "cells": [
  {
   "cell_type": "code",
   "execution_count": 1,
   "metadata": {},
   "outputs": [],
   "source": [
    "import sys\n",
    "sys.path.append(\"../..\")"
   ]
  },
  {
   "cell_type": "code",
   "execution_count": 2,
   "metadata": {},
   "outputs": [
    {
     "name": "stdout",
     "output_type": "stream",
     "text": [
      "Python class written to ./others\\Airbriage_Nb.py\n"
     ]
    }
   ],
   "source": [
    "import toolbox\n",
    "\n",
    "# 示例调用\n",
    "toolbox.generate_python_class_from_gds(\"Airbriage_Nb.gds\", \"others\")"
   ]
  }
 ],
 "metadata": {
  "kernelspec": {
   "display_name": "tianyan_v5",
   "language": "python",
   "name": "tianyan_v5"
  },
  "language_info": {
   "codemirror_mode": {
    "name": "ipython",
    "version": 3
   },
   "file_extension": ".py",
   "mimetype": "text/x-python",
   "name": "python",
   "nbconvert_exporter": "python",
   "pygments_lexer": "ipython3",
   "version": "3.11.5"
  }
 },
 "nbformat": 4,
 "nbformat_minor": 2
}
