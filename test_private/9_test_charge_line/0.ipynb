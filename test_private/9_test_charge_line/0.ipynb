{
 "cells": [
  {
   "cell_type": "code",
   "execution_count": 1,
   "id": "9e99fad5",
   "metadata": {},
   "outputs": [],
   "source": [
    "import sys\n",
    "sys.path.append(\"../..\")"
   ]
  },
  {
   "cell_type": "code",
   "execution_count": null,
   "id": "1e2e8d11",
   "metadata": {},
   "outputs": [],
   "source": [
    "from library.control_lines.charge_line import ChargeLine\n",
    "cl = ChargeLine()\n",
    "cl.show_svg()"
   ]
  },
  {
   "cell_type": "code",
   "execution_count": 12,
   "id": "0fb8efa0",
   "metadata": {},
   "outputs": [],
   "source": [
    "options = cl.options"
   ]
  },
  {
   "cell_type": "code",
   "execution_count": 13,
   "id": "41bd94c3",
   "metadata": {},
   "outputs": [],
   "source": [
    "options.pos = [(-2000, 0), (0, 0)]"
   ]
  },
  {
   "cell_type": "code",
   "execution_count": 15,
   "id": "2fde9619",
   "metadata": {},
   "outputs": [],
   "source": [
    "cl.change_options(options)"
   ]
  },
  {
   "cell_type": "code",
   "execution_count": 16,
   "id": "0e53aa77",
   "metadata": {},
   "outputs": [
    {
     "name": "stdout",
     "output_type": "stream",
     "text": [
      "name: charge_line0\n",
      "type: ChargeLine\n",
      "chip: chip0\n",
      "outline: \n",
      "    []\n",
      "pos: \n",
      "    [(-2000, 0), (0, 0)]\n",
      "width: 15\n",
      "gap: 5\n",
      "pad_width: 15\n",
      "pad_height: 25\n",
      "distance: 50\n",
      "corner_radius: 20\n"
     ]
    }
   ],
   "source": [
    "cl.show_options()"
   ]
  },
  {
   "cell_type": "code",
   "execution_count": null,
   "id": "56d245e5",
   "metadata": {},
   "outputs": [],
   "source": [
    "cl.show_svg()"
   ]
  },
  {
   "cell_type": "code",
   "execution_count": null,
   "id": "7544d2e1",
   "metadata": {},
   "outputs": [],
   "source": []
  }
 ],
 "metadata": {
  "kernelspec": {
   "display_name": "qeda_env",
   "language": "python",
   "name": "qeda_env"
  },
  "language_info": {
   "codemirror_mode": {
    "name": "ipython",
    "version": 3
   },
   "file_extension": ".py",
   "mimetype": "text/x-python",
   "name": "python",
   "nbconvert_exporter": "python",
   "pygments_lexer": "ipython3",
   "version": "3.11.5"
  }
 },
 "nbformat": 4,
 "nbformat_minor": 5
}
