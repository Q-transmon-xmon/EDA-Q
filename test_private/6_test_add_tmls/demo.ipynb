{
 "cells": [
  {
   "cell_type": "code",
   "execution_count": 1,
   "metadata": {},
   "outputs": [],
   "source": [
    "import sys\n",
    "sys.path.append(\"../..\")"
   ]
  },
  {
   "cell_type": "code",
   "execution_count": 2,
   "metadata": {},
   "outputs": [],
   "source": [
    "from api.design import Design\n",
    "design=Design()"
   ]
  },
  {
   "cell_type": "code",
   "execution_count": 3,
   "metadata": {},
   "outputs": [
    {
     "name": "stdout",
     "output_type": "stream",
     "text": [
      "svg文件保存在：./svg/Gds.svg\n"
     ]
    },
    {
     "data": {
      "image/svg+xml": [
       "<svg xmlns=\"http://www.w3.org/2000/svg\" xmlns:xlink=\"http://www.w3.org/1999/xlink\" width=\"549.9999999999999\" height=\"549.9999999999999\" viewBox=\"-25.49900199600798 -524.500998003992 549.9999999999999 549.9999999999999\">\n",
       "<defs>\n",
       "<style type=\"text/css\">\n",
       ".l3d0 {stroke: rgb(255, 255, 64); fill: rgb(255, 255, 64); fill-opacity: 0.5;}\n",
       "</style>\n",
       "</defs>\n",
       "<rect x=\"-25.49900199600798\" y=\"-524.500998003992\" width=\"549.9999999999999\" height=\"549.9999999999999\" fill=\"#222\" stroke=\"none\"/>\n",
       "<g id=\"gds\" transform=\"scale(1 -1)\">\n",
       "<polygon class=\"l3d0\" points=\"0.0,0.499001996007984 0.0,-0.499001996007984 499.001996007984,-0.499001996007984 499.001996007984,0.499001996007984\"/>\n",
       "<polygon class=\"l3d0\" points=\"498.502994011976,0.0 499.500998003992,0.0 499.500998003992,499.001996007984 498.502994011976,499.001996007984\"/>\n",
       "<polygon class=\"l3d0\" points=\"499.001996007984,498.502994011976 499.001996007984,499.500998003992 0.0,499.500998003992 0.0,498.502994011976\"/>\n",
       "<polygon class=\"l3d0\" points=\"0.499001996007984,499.001996007984 -0.499001996007984,499.001996007984 -0.499001996007984,0.0 0.499001996007984,0.0\"/>\n",
       "</g>\n",
       "</svg>"
      ],
      "text/plain": [
       "<IPython.core.display.SVG object>"
      ]
     },
     "metadata": {},
     "output_type": "display_data"
    }
   ],
   "source": [
    "design.add_chip(chip_name=\"chip0\")\n",
    "design.gds.show_svg()"
   ]
  },
  {
   "cell_type": "code",
   "execution_count": 4,
   "metadata": {},
   "outputs": [],
   "source": [
    "from addict import Dict\n",
    "options = Dict()\n",
    "options.name = \"tml0\"\n",
    "options.type = \"TransmissionPath\"\n",
    "options.chip = \"chip0\"\n",
    "design.gds.transmission_lines.add(options)"
   ]
  },
  {
   "cell_type": "code",
   "execution_count": 7,
   "metadata": {},
   "outputs": [
    {
     "name": "stdout",
     "output_type": "stream",
     "text": [
      "svg文件保存在：./svg/Gds.svg\n"
     ]
    },
    {
     "data": {
      "image/svg+xml": [
       "<svg xmlns=\"http://www.w3.org/2000/svg\" xmlns:xlink=\"http://www.w3.org/1999/xlink\" width=\"551.0479041916167\" height=\"561.5269461077844\" viewBox=\"-26.022954091816366 -525.0249500998003 551.0479041916167 561.5269461077844\">\n",
       "<defs>\n",
       "<style type=\"text/css\">\n",
       ".l3d0 {stroke: rgb(255, 255, 64); fill: rgb(255, 255, 64); fill-opacity: 0.5;}\n",
       "</style>\n",
       "</defs>\n",
       "<rect x=\"-26.022954091816366\" y=\"-525.0249500998003\" width=\"551.0479041916167\" height=\"561.5269461077844\" fill=\"#222\" stroke=\"none\"/>\n",
       "<g id=\"gds\" transform=\"scale(1 -1)\">\n",
       "<polygon class=\"l3d0\" points=\"0.0,0.499001996007984 0.0,-0.499001996007984 499.001996007984,-0.499001996007984 499.001996007984,0.499001996007984\"/>\n",
       "<polygon class=\"l3d0\" points=\"498.502994011976,0.0 499.500998003992,0.0 499.500998003992,499.001996007984 498.502994011976,499.001996007984\"/>\n",
       "<polygon class=\"l3d0\" points=\"499.001996007984,498.502994011976 499.001996007984,499.500998003992 0.0,499.500998003992 0.0,498.502994011976\"/>\n",
       "<polygon class=\"l3d0\" points=\"0.499001996007984,499.001996007984 -0.499001996007984,499.001996007984 -0.499001996007984,0.0 0.499001996007984,0.0\"/>\n",
       "<polygon class=\"l3d0\" points=\"499.001996007984,10.978043912175648 0.0,10.978043912175648 0.0,4.99001996007984 499.001996007984,4.99001996007984\"/>\n",
       "<polygon class=\"l3d0\" points=\"499.001996007984,-10.978043912175648 499.001996007984,-4.99001996007984 0.0,-4.99001996007984 0.0,-10.978043912175648\"/>\n",
       "</g>\n",
       "</svg>"
      ],
      "text/plain": [
       "<IPython.core.display.SVG object>"
      ]
     },
     "metadata": {},
     "output_type": "display_data"
    },
    {
     "data": {
      "text/plain": [
       "((-0.5, -11.0), (500.5, 500.5))"
      ]
     },
     "execution_count": 7,
     "metadata": {},
     "output_type": "execute_result"
    }
   ],
   "source": [
    "design.gds.show_svg()\n",
    "design.gds.get_gds_bounding_box()"
   ]
  },
  {
   "cell_type": "code",
   "execution_count": null,
   "metadata": {},
   "outputs": [],
   "source": []
  }
 ],
 "metadata": {
  "kernelspec": {
   "display_name": "tianyan_v5",
   "language": "python",
   "name": "tianyan_v5"
  },
  "language_info": {
   "codemirror_mode": {
    "name": "ipython",
    "version": 3
   },
   "file_extension": ".py",
   "mimetype": "text/x-python",
   "name": "python",
   "nbconvert_exporter": "python",
   "pygments_lexer": "ipython3",
   "version": "3.11.5"
  }
 },
 "nbformat": 4,
 "nbformat_minor": 2
}
