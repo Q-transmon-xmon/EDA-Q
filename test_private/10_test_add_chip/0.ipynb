{
 "cells": [
  {
   "cell_type": "code",
   "execution_count": 1,
   "id": "aa483e0a",
   "metadata": {},
   "outputs": [],
   "source": [
    "import sys\n",
    "sys.path.append(\"../..\")"
   ]
  },
  {
   "cell_type": "code",
   "execution_count": 2,
   "id": "3e57a67d",
   "metadata": {},
   "outputs": [],
   "source": [
    "from api.design import Design\n",
    "design = Design()"
   ]
  },
  {
   "cell_type": "code",
   "execution_count": 6,
   "id": "7a8bd501",
   "metadata": {},
   "outputs": [],
   "source": [
    "from addict import Dict\n",
    "options = Dict(\n",
    "    name = \"chip0\",\n",
    "    type = \"RecChip\",\n",
    "    start_pos = (-2000, -2000),\n",
    "    end_pos = (2000, 2000)\n",
    ")"
   ]
  },
  {
   "cell_type": "code",
   "execution_count": 7,
   "id": "a90c3817",
   "metadata": {},
   "outputs": [],
   "source": [
    "design.gds.chips.add(options)"
   ]
  },
  {
   "cell_type": "code",
   "execution_count": 8,
   "id": "71fd59e3",
   "metadata": {},
   "outputs": [
    {
     "name": "stdout",
     "output_type": "stream",
     "text": [
      "svg文件保存在：./svg/Gds.svg\n"
     ]
    },
    {
     "data": {
      "image/svg+xml": [
       "<svg xmlns=\"http://www.w3.org/2000/svg\" xmlns:xlink=\"http://www.w3.org/1999/xlink\" width=\"550.0\" height=\"550.0\" viewBox=\"-275.0 -275.0 550.0 550.0\">\n",
       "<defs>\n",
       "<style type=\"text/css\">\n",
       ".l3d0 {stroke: rgb(255, 255, 64); fill: rgb(255, 255, 64); fill-opacity: 0.5;}\n",
       "</style>\n",
       "</defs>\n",
       "<rect x=\"-275.0\" y=\"-275.0\" width=\"550.0\" height=\"550.0\" fill=\"#222\" stroke=\"none\"/>\n",
       "<g id=\"gds\" transform=\"scale(1 -1)\">\n",
       "<polygon class=\"l3d0\" points=\"-249.93751562109472,-249.87503124218946 -249.93751562109472,-250.0 249.93751562109472,-250.0 249.93751562109472,-249.87503124218946\"/>\n",
       "<polygon class=\"l3d0\" points=\"249.87503124218946,-249.93751562109472 250.0,-249.93751562109472 250.0,249.93751562109472 249.87503124218946,249.93751562109472\"/>\n",
       "<polygon class=\"l3d0\" points=\"249.93751562109472,249.87503124218946 249.93751562109472,250.0 -249.93751562109472,250.0 -249.93751562109472,249.87503124218946\"/>\n",
       "<polygon class=\"l3d0\" points=\"-249.87503124218946,249.93751562109472 -250.0,249.93751562109472 -250.0,-249.93751562109472 -249.87503124218946,-249.93751562109472\"/>\n",
       "</g>\n",
       "</svg>"
      ],
      "text/plain": [
       "<IPython.core.display.SVG object>"
      ]
     },
     "metadata": {},
     "output_type": "display_data"
    }
   ],
   "source": [
    "design.gds.show_svg()"
   ]
  },
  {
   "cell_type": "code",
   "execution_count": null,
   "id": "dacf399d",
   "metadata": {},
   "outputs": [],
   "source": []
  }
 ],
 "metadata": {
  "kernelspec": {
   "display_name": "edaq",
   "language": "python",
   "name": "edaq"
  },
  "language_info": {
   "codemirror_mode": {
    "name": "ipython",
    "version": 3
   },
   "file_extension": ".py",
   "mimetype": "text/x-python",
   "name": "python",
   "nbconvert_exporter": "python",
   "pygments_lexer": "ipython3",
   "version": "3.11.5"
  }
 },
 "nbformat": 4,
 "nbformat_minor": 5
}
