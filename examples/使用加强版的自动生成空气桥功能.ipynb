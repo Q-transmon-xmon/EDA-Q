{
 "cells": [
  {
   "cell_type": "code",
   "execution_count": 1,
   "metadata": {},
   "outputs": [],
   "source": [
    "import sys\n",
    "sys.path.append(\"..\")"
   ]
  },
  {
   "cell_type": "code",
   "execution_count": 2,
   "metadata": {},
   "outputs": [],
   "source": [
    "from api.design import Design\n",
    "from addict import Dict\n",
    "\n",
    "def add_control_lines(design, pos, name=\"charge_line1\", type=\"ChargeLine\", chip_type=\"chip0\"):\n",
    "    \"\"\"\n",
    "    添加控制线到设计中\n",
    "    \"\"\"\n",
    "    design.gds.control_lines.add(options=Dict(\n",
    "        name=name,\n",
    "        type=type,\n",
    "        chip=chip_type,\n",
    "        pos=pos,\n",
    "        corner_radius=80,\n",
    "        end_radius=10\n",
    "    ))\n",
    "design = Design()\n",
    "pos = [(0, 0), (200, 0), (200, 550), (400, 550), (250, 0), (600, 0), (1500, 550),(1200, 0)]\n",
    "add_control_lines(design, pos)\n",
    "spacing = 120\n",
    "design.gds.auto_generate_air_bridge2(line_type=\"control_lines\", line_name=\"charge_line1\", spacing=spacing, chip_name=\"chip3\", width=10, air_bridge_type=\"AirbridgeNb\")"
   ]
  },
  {
   "cell_type": "code",
   "execution_count": 3,
   "metadata": {},
   "outputs": [],
   "source": [
    "design.gds.show_gds()"
   ]
  },
  {
   "cell_type": "code",
   "execution_count": null,
   "metadata": {},
   "outputs": [],
   "source": []
  }
 ],
 "metadata": {
  "kernelspec": {
   "display_name": "tianyan_v5",
   "language": "python",
   "name": "python3"
  },
  "language_info": {
   "codemirror_mode": {
    "name": "ipython",
    "version": 3
   },
   "file_extension": ".py",
   "mimetype": "text/x-python",
   "name": "python",
   "nbconvert_exporter": "python",
   "pygments_lexer": "ipython3",
   "version": "3.11.5"
  }
 },
 "nbformat": 4,
 "nbformat_minor": 2
}
